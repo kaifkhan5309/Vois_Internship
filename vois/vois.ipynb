{
 "cells": [
  {
   "cell_type": "code",
   "execution_count": 7,
   "id": "df6b4214-803b-4222-8ce9-a472fc980e9f",
   "metadata": {},
   "outputs": [
    {
     "data": {
      "text/plain": [
       "'3.12.0'"
      ]
     },
     "execution_count": 7,
     "metadata": {},
     "output_type": "execute_result"
    }
   ],
   "source": [
    "from platform import python_version\n",
    "\n",
    "python_version()\n"
   ]
  },
  {
   "cell_type": "code",
   "execution_count": 10,
   "id": "12a88968-9bad-4f3c-b75c-2ce585a9af93",
   "metadata": {},
   "outputs": [
    {
     "name": "stdout",
     "output_type": "stream",
     "text": [
      "Requirement already satisfied: opencv-python in c:\\users\\kaifk\\appdata\\local\\programs\\python\\python312\\lib\\site-packages (4.9.0.80)\n",
      "Requirement already satisfied: numpy>=1.21.2 in c:\\users\\kaifk\\appdata\\local\\programs\\python\\python312\\lib\\site-packages (from opencv-python) (1.26.2)\n",
      "Note: you may need to restart the kernel to use updated packages.\n"
     ]
    }
   ],
   "source": [
    "pip install opencv-python"
   ]
  },
  {
   "cell_type": "markdown",
   "id": "4a0613d4-d579-437a-9f26-b25ed627e7cf",
   "metadata": {},
   "source": [
    "import cv2\n",
    "import os \n",
    "import string\n",
    "\n",
    "img = cv2.imread('flower.jpg')\n",
    "msg = input(\"Enter secret message: \")\n",
    "pwd = input(\"Enter passcode: \")\n",
    "\n",
    "d = {}\n",
    "c = {}\n",
    "\n",
    "for i in range(0,255):\n",
    "    d[chr(i)] = i\n",
    "    c[i] = chr(i)\n",
    "\n",
    "\n",
    "n = 0\n",
    "m = 0\n",
    "z = 0\n",
    "\n",
    "\n",
    "\n",
    "for i in range(len(msg)):\n",
    "    img[n,m,z] = d[msg[i]]\n",
    "    n = n + 1\n",
    "    m = m + 1\n",
    "    z = (z + 1)%3\n",
    "\n",
    "cv2.imwrite(\"encryptedImage.jpg\",img)\n",
    "os.startfile(\"encryptedImage.jpg\")\n",
    "\n",
    "\n",
    "message = \"\"\n",
    "psd = input(\"enter the encryption passcode : \")\n",
    "if(psd == pwd):\n",
    "    for i in range(len(msg)):\n",
    "        message  = message + c[img[n,m,z]]\n",
    "        n = n + 1\n",
    "        m = m + 1\n",
    "        z = (z + 1)%3\n",
    "    print(\"Decrypted message : \",message)\n",
    "else:\n",
    "    print(\"You are not authenticated\")"
   ]
  },
  {
   "cell_type": "code",
   "execution_count": 2,
   "id": "930ed934-3983-4240-8237-b99ac28c7fc2",
   "metadata": {},
   "outputs": [
    {
     "name": "stdin",
     "output_type": "stream",
     "text": [
      "Enter secret message:  hey this is kaif!!\n",
      "Enter passcode:  1432\n",
      "enter the encryption passcode :  1432\n"
     ]
    },
    {
     "name": "stdout",
     "output_type": "stream",
     "text": [
      "Decrypted message :  hey this is kaif!!\n"
     ]
    }
   ],
   "source": [
    "import cv2\n",
    "import os \n",
    "import string\n",
    "\n",
    "img = cv2.imread('cricket.jpeg')\n",
    "msg = input(\"Enter secret message: \")\n",
    "pwd = input(\"Enter passcode: \")\n",
    "\n",
    "d = {}\n",
    "c = {}\n",
    "\n",
    "for i in range(0,255):\n",
    "    d[chr(i)] = i\n",
    "    c[i] = chr(i)\n",
    "\n",
    "\n",
    "n = 0\n",
    "m = 0\n",
    "z = 0\n",
    "\n",
    "\n",
    "\n",
    "for i in range(len(msg)):\n",
    "    img[n,m,z] = d[msg[i]]\n",
    "    n = n + 1\n",
    "    m = m + 1\n",
    "    z = (z + 1)%3\n",
    "\n",
    "cv2.imwrite(\"newImage.jpeg\",img)\n",
    "os.startfile(\"newImage.jpeg\")\n",
    "\n",
    "\n",
    "message = \"\"\n",
    "\n",
    "n = 0\n",
    "m = 0\n",
    "z = 0\n",
    "\n",
    "\n",
    "psd = input(\"enter the encryption passcode : \")\n",
    "if(pwd == psd):\n",
    "    for i in range(len(msg)):\n",
    "        message  = message + c[img[n,m,z]]\n",
    "        n = n + 1\n",
    "        m = m + 1\n",
    "        z = (z + 1)%3\n",
    "    print(\"Decrypted message : \",message)\n",
    "else:\n",
    "    print(\"You are not authenticated\")"
   ]
  },
  {
   "cell_type": "code",
   "execution_count": null,
   "id": "a18c7a18-609d-4e10-a25d-0f50e98edf29",
   "metadata": {},
   "outputs": [],
   "source": []
  }
 ],
 "metadata": {
  "kernelspec": {
   "display_name": "Python 3 (ipykernel)",
   "language": "python",
   "name": "python3"
  },
  "language_info": {
   "codemirror_mode": {
    "name": "ipython",
    "version": 3
   },
   "file_extension": ".py",
   "mimetype": "text/x-python",
   "name": "python",
   "nbconvert_exporter": "python",
   "pygments_lexer": "ipython3",
   "version": "3.12.0"
  }
 },
 "nbformat": 4,
 "nbformat_minor": 5
}
